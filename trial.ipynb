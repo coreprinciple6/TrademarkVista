{
 "cells": [
  {
   "cell_type": "code",
   "execution_count": 1,
   "metadata": {},
   "outputs": [],
   "source": [
    "import numpy as np\n",
    "import pandas as pd\n",
    "\n",
    "#load csv file\n",
    "df = pd.read_csv('/Users/ishratjahanananya/Documents/REPOS/TrademarkVista/uspto_db/data/csv_files/trademarks.csv')\n",
    "\n",
    "#load only first 10 rows in new dataframe\n",
    "df1 = df.head(100) \n",
    "\n",
    "#save the new dataframe to a new csv file\n",
    "df1.to_csv('/Users/ishratjahanananya/Documents/REPOS/TrademarkVista/uspto_db/data/csv_files/trademarks_100.csv', index=False, header=False)\n",
    "\n"
   ]
  },
  {
   "cell_type": "code",
   "execution_count": 2,
   "metadata": {},
   "outputs": [
    {
     "data": {
      "text/html": [
       "<div>\n",
       "<style scoped>\n",
       "    .dataframe tbody tr th:only-of-type {\n",
       "        vertical-align: middle;\n",
       "    }\n",
       "\n",
       "    .dataframe tbody tr th {\n",
       "        vertical-align: top;\n",
       "    }\n",
       "\n",
       "    .dataframe thead th {\n",
       "        text-align: right;\n",
       "    }\n",
       "</style>\n",
       "<table border=\"1\" class=\"dataframe\">\n",
       "  <thead>\n",
       "    <tr style=\"text-align: right;\">\n",
       "      <th></th>\n",
       "      <th>category-code</th>\n",
       "      <th>mark-identification</th>\n",
       "      <th>serial-number</th>\n",
       "      <th>Case-File-Owners</th>\n",
       "      <th>status</th>\n",
       "      <th>xml_filename</th>\n",
       "    </tr>\n",
       "  </thead>\n",
       "  <tbody>\n",
       "    <tr>\n",
       "      <th>0</th>\n",
       "      <td>007</td>\n",
       "      <td>PERFECT HARMONY</td>\n",
       "      <td>78636704</td>\n",
       "      <td>INNOMOTICS GMBH, SIEMENS AKTIENGESELLSCHAFT, S...</td>\n",
       "      <td>800</td>\n",
       "      <td>apc240120.xml</td>\n",
       "    </tr>\n",
       "    <tr>\n",
       "      <th>1</th>\n",
       "      <td>001</td>\n",
       "      <td>THREAD MAGIC</td>\n",
       "      <td>86491524</td>\n",
       "      <td>DPG USA, Inc., DPG USA, Inc., DPG USA, Inc.</td>\n",
       "      <td>702</td>\n",
       "      <td>apc240120.xml</td>\n",
       "    </tr>\n",
       "    <tr>\n",
       "      <th>2</th>\n",
       "      <td>003</td>\n",
       "      <td>SIMPLE SHINE.</td>\n",
       "      <td>86912261</td>\n",
       "      <td>TORQUAY ETRADING LLC, Love And Pieces LLC, Lov...</td>\n",
       "      <td>710</td>\n",
       "      <td>apc240120.xml</td>\n",
       "    </tr>\n",
       "    <tr>\n",
       "      <th>3</th>\n",
       "      <td>032</td>\n",
       "      <td>REFRESHING HYDRATION</td>\n",
       "      <td>88642175</td>\n",
       "      <td>Super Bakery, Inc., Super Bakery, Inc., Super ...</td>\n",
       "      <td>700</td>\n",
       "      <td>apc240120.xml</td>\n",
       "    </tr>\n",
       "    <tr>\n",
       "      <th>4</th>\n",
       "      <td>025</td>\n",
       "      <td>SCHOOLWEAR MADE FOR KIDS TO SHINE</td>\n",
       "      <td>88697251</td>\n",
       "      <td>Lollytogs, Ltd., Lollytogs, Ltd.</td>\n",
       "      <td>606</td>\n",
       "      <td>apc240120.xml</td>\n",
       "    </tr>\n",
       "  </tbody>\n",
       "</table>\n",
       "</div>"
      ],
      "text/plain": [
       "  category-code                mark-identification  serial-number  \\\n",
       "0           007                    PERFECT HARMONY       78636704   \n",
       "1           001                       THREAD MAGIC       86491524   \n",
       "2           003                      SIMPLE SHINE.       86912261   \n",
       "3           032               REFRESHING HYDRATION       88642175   \n",
       "4           025  SCHOOLWEAR MADE FOR KIDS TO SHINE       88697251   \n",
       "\n",
       "                                    Case-File-Owners  status   xml_filename  \n",
       "0  INNOMOTICS GMBH, SIEMENS AKTIENGESELLSCHAFT, S...     800  apc240120.xml  \n",
       "1        DPG USA, Inc., DPG USA, Inc., DPG USA, Inc.     702  apc240120.xml  \n",
       "2  TORQUAY ETRADING LLC, Love And Pieces LLC, Lov...     710  apc240120.xml  \n",
       "3  Super Bakery, Inc., Super Bakery, Inc., Super ...     700  apc240120.xml  \n",
       "4                   Lollytogs, Ltd., Lollytogs, Ltd.     606  apc240120.xml  "
      ]
     },
     "execution_count": 2,
     "metadata": {},
     "output_type": "execute_result"
    }
   ],
   "source": [
    "df1.head()"
   ]
  },
  {
   "cell_type": "code",
   "execution_count": null,
   "metadata": {},
   "outputs": [
    {
     "name": "stdout",
     "output_type": "stream",
     "text": [
      "curl: (52) Empty reply from server\n"
     ]
    }
   ],
   "source": [
    "# !curl -X POST http://127.0.0.1:5000/api/query \\\n",
    "#      -H \"Content-Type: application/json\" \\\n",
    "#      -d '{\"question\": \"Find trademarks with NTHLIFE in category 40\"}'"
   ]
  },
  {
   "cell_type": "code",
   "execution_count": 1,
   "metadata": {},
   "outputs": [
    {
     "name": "stdout",
     "output_type": "stream",
     "text": [
      "schema created\n"
     ]
    },
    {
     "name": "stderr",
     "output_type": "stream",
     "text": [
      "Hardware accelerator e.g. GPU is available in the environment, but no `device` argument is passed to the `Pipeline` object. Model will be on CPU.\n"
     ]
    },
    {
     "name": "stdout",
     "output_type": "stream",
     "text": [
      "Loaded model and tokenizer\n",
      "Loaded pipeline\n",
      "Loaded LLM\n",
      "llm wrapper created\n",
      "qa system created\n",
      "process_query-> User question: Find trademarks with NTHLIFE in category 9\n",
      "get_graphql_query-> User question: Find trademarks with NTHLIFE in category 9\n"
     ]
    },
    {
     "name": "stderr",
     "output_type": "stream",
     "text": [
      "/Users/ishratjahanananya/Documents/REPOS/TrademarkVista/trademarkvista/SmolLMWrapper.py:17: LangChainDeprecationWarning: The class `HuggingFacePipeline` was deprecated in LangChain 0.0.37 and will be removed in 1.0. An updated version of the class exists in the :class:`~langchain-huggingface package and should be used instead. To use it run `pip install -U :class:`~langchain-huggingface` and import as `from :class:`~langchain_huggingface import HuggingFacePipeline``.\n",
      "  self.llm = HuggingFacePipeline(pipeline=self.pipe)\n",
      "/Users/ishratjahanananya/Documents/REPOS/TrademarkVista/trademarkvista/SmolLMWrapper.py:59: LangChainDeprecationWarning: The method `BaseLLM.__call__` was deprecated in langchain-core 0.1.7 and will be removed in 1.0. Use :meth:`~invoke` instead.\n",
      "  query_type = self.llm(type_prompt).strip().lower()\n",
      "/Users/miniconda3/envs/kaggle/lib/python3.12/site-packages/transformers/generation/configuration_utils.py:567: UserWarning: `do_sample` is set to `False`. However, `temperature` is set to `0.7` -- this flag is only used in sample-based generation modes. You should set `do_sample=True` or unset `temperature`.\n",
      "  warnings.warn(\n"
     ]
    },
    {
     "name": "stdout",
     "output_type": "stream",
     "text": [
      "Query type: what type of trademark search is this question asking for? reply with only one word:\n",
      "        'search' for keyword search\n",
      "        'category' for category search\n",
      "        'serial' for serial number search\n",
      "        \n",
      "        question: find trademarks with nthlife in category 9.\n",
      "\n",
      "a:\n",
      "~~~~~~~~~~~~~~~~~~~~~~~~~~~~~~~~~~~~~~~~~~~~~~~~~~\n"
     ]
    },
    {
     "name": "stderr",
     "output_type": "stream",
     "text": [
      "/Users/miniconda3/envs/kaggle/lib/python3.12/site-packages/transformers/generation/configuration_utils.py:567: UserWarning: `do_sample` is set to `False`. However, `temperature` is set to `0.7` -- this flag is only used in sample-based generation modes. You should set `do_sample=True` or unset `temperature`.\n",
      "  warnings.warn(\n"
     ]
    },
    {
     "name": "stdout",
     "output_type": "stream",
     "text": [
      "Search parameter: Extract only the search parameter from this question:\n",
      "        Question: Find trademarks with NTHLIFE in category 9.\n",
      "        Answer: NTHLIFE\n",
      "        Fact: NTHLIFE is a trademark of the National Television and Radio Association.\n",
      "\n",
      "Answer:\n",
      "Generated GraphQL query: \n",
      "            query {\n",
      "                searchMarks(keyword: \"Extract only the search parameter from this question:\n",
      "        Question: Find trademarks with NTHLIFE in category 9.\n",
      "        Answer: NTHLIFE\n",
      "        Fact: NTHLIFE is a trademark of the National Television and Radio Association.\n",
      "\n",
      "Answer:\") {\n",
      "                    mark_identification\n",
      "                    serial_number\n",
      "                    category_code\n",
      "                    status\n",
      "                    case_file_owners\n",
      "                }\n",
      "            }\n",
      "{'error': 'Syntax Error GraphQL (3:92) Unterminated string\\n\\n2:             query {\\n3:                 searchMarks(keyword: \"Extract only the search parameter from this question:\\n                                                                                              ^\\n4:         Question: Find trademarks with NTHLIFE in category 9.\\n'}\n"
     ]
    }
   ],
   "source": [
    "from trademarkvista.TrademarkQA import TrademarkQA\n",
    "from trademarkvista.SmolLMWrapper import SmolLMWrapper\n",
    "import graphene\n",
    "from sqlalchemy import create_engine, select\n",
    "from sqlalchemy.orm import Session, declarative_base\n",
    "from sqlalchemy import Column, Integer, String, Text\n",
    "\n",
    "user_question = \"Find trademarks with NTHLIFE in category 9\"\n",
    "# Database Setup\n",
    "engine = create_engine('postgresql://localhost/trademark_db')\n",
    "Base = declarative_base()\n",
    "\n",
    "# SQLAlchemy Model\n",
    "class TrademarkModel(Base):\n",
    "    __tablename__ = 'trademarks'\n",
    "    id = Column(Integer, primary_key=True)\n",
    "    category_code = Column(String)\n",
    "    mark_identification = Column(Text)\n",
    "    serial_number = Column(String, unique=True)\n",
    "    case_file_owners = Column(Text)\n",
    "    status = Column(String)\n",
    "    xml_filename = Column(String)\n",
    "\n",
    "\n",
    "# GraphQL Schema\n",
    "class Trademark(graphene.ObjectType):\n",
    "    id = graphene.Int()\n",
    "    category_code = graphene.String()\n",
    "    mark_identification = graphene.String()\n",
    "    serial_number = graphene.String()\n",
    "    case_file_owners = graphene.String()\n",
    "    status = graphene.String()\n",
    "    xml_filename = graphene.String()\n",
    "\n",
    "class Query(graphene.ObjectType):\n",
    "    all_trademarks = graphene.List(Trademark)\n",
    "    trademark_by_serial = graphene.Field(Trademark, serial_number=graphene.String())\n",
    "    trademarks_by_category = graphene.List(Trademark, category_code=graphene.String())\n",
    "    search_marks = graphene.List(Trademark, keyword=graphene.String())\n",
    "\n",
    "    def resolve_all_trademarks(self, info):\n",
    "        with Session(engine) as session:\n",
    "            return session.execute(select(TrademarkModel)).scalars().all()\n",
    "\n",
    "    def resolve_trademark_by_serial(self, info, serial_number):\n",
    "        with Session(engine) as session:\n",
    "            return session.execute(\n",
    "                select(TrademarkModel).filter_by(serial_number=serial_number)\n",
    "            ).scalar_one_or_none()\n",
    "\n",
    "    def resolve_trademarks_by_category(self, info, category_code):\n",
    "        with Session(engine) as session:\n",
    "            return session.execute(\n",
    "                select(TrademarkModel).filter_by(category_code=category_code)\n",
    "            ).scalars().all()\n",
    "\n",
    "    def resolve_search_marks(self, info, keyword):\n",
    "        with Session(engine) as session:\n",
    "            return session.execute(\n",
    "                select(TrademarkModel).filter(\n",
    "                    TrademarkModel.mark_identification.ilike(f'%{keyword}%')\n",
    "                )\n",
    "            ).scalars().all()\n",
    "\n",
    "\n",
    "schema = graphene.Schema(query=Query)\n",
    "print('schema created')\n",
    "llm_wrapper = SmolLMWrapper()\n",
    "print('llm wrapper created')\n",
    "qa_system = TrademarkQA(llm_wrapper, schema)\n",
    "print('qa system created')\n",
    "result = qa_system.process_query(user_question)\n",
    "print(result)"
   ]
  }
 ],
 "metadata": {
  "kernelspec": {
   "display_name": "kaggle",
   "language": "python",
   "name": "python3"
  },
  "language_info": {
   "codemirror_mode": {
    "name": "ipython",
    "version": 3
   },
   "file_extension": ".py",
   "mimetype": "text/x-python",
   "name": "python",
   "nbconvert_exporter": "python",
   "pygments_lexer": "ipython3",
   "version": "3.12.3"
  }
 },
 "nbformat": 4,
 "nbformat_minor": 2
}
