{
 "cells": [
  {
   "cell_type": "code",
   "execution_count": 1,
   "metadata": {},
   "outputs": [],
   "source": [
    "import numpy as np\n",
    "import pandas as pd\n",
    "\n",
    "#load csv file\n",
    "df = pd.read_csv('/Users/ishratjahanananya/Documents/REPOS/TrademarkVista/uspto_db/data/csv_files/trademarks.csv')\n",
    "\n",
    "#load only first 10 rows in new dataframe\n",
    "df1 = df.head(100) \n",
    "\n",
    "#save the new dataframe to a new csv file\n",
    "df1.to_csv('/Users/ishratjahanananya/Documents/REPOS/TrademarkVista/uspto_db/data/csv_files/trademarks_100.csv', index=False, header=False)\n",
    "\n"
   ]
  },
  {
   "cell_type": "code",
   "execution_count": 2,
   "metadata": {},
   "outputs": [
    {
     "data": {
      "text/html": [
       "<div>\n",
       "<style scoped>\n",
       "    .dataframe tbody tr th:only-of-type {\n",
       "        vertical-align: middle;\n",
       "    }\n",
       "\n",
       "    .dataframe tbody tr th {\n",
       "        vertical-align: top;\n",
       "    }\n",
       "\n",
       "    .dataframe thead th {\n",
       "        text-align: right;\n",
       "    }\n",
       "</style>\n",
       "<table border=\"1\" class=\"dataframe\">\n",
       "  <thead>\n",
       "    <tr style=\"text-align: right;\">\n",
       "      <th></th>\n",
       "      <th>category-code</th>\n",
       "      <th>mark-identification</th>\n",
       "      <th>serial-number</th>\n",
       "      <th>Case-File-Owners</th>\n",
       "      <th>status</th>\n",
       "      <th>xml_filename</th>\n",
       "    </tr>\n",
       "  </thead>\n",
       "  <tbody>\n",
       "    <tr>\n",
       "      <th>0</th>\n",
       "      <td>007</td>\n",
       "      <td>PERFECT HARMONY</td>\n",
       "      <td>78636704</td>\n",
       "      <td>INNOMOTICS GMBH, SIEMENS AKTIENGESELLSCHAFT, S...</td>\n",
       "      <td>800</td>\n",
       "      <td>apc240120.xml</td>\n",
       "    </tr>\n",
       "    <tr>\n",
       "      <th>1</th>\n",
       "      <td>001</td>\n",
       "      <td>THREAD MAGIC</td>\n",
       "      <td>86491524</td>\n",
       "      <td>DPG USA, Inc., DPG USA, Inc., DPG USA, Inc.</td>\n",
       "      <td>702</td>\n",
       "      <td>apc240120.xml</td>\n",
       "    </tr>\n",
       "    <tr>\n",
       "      <th>2</th>\n",
       "      <td>003</td>\n",
       "      <td>SIMPLE SHINE.</td>\n",
       "      <td>86912261</td>\n",
       "      <td>TORQUAY ETRADING LLC, Love And Pieces LLC, Lov...</td>\n",
       "      <td>710</td>\n",
       "      <td>apc240120.xml</td>\n",
       "    </tr>\n",
       "    <tr>\n",
       "      <th>3</th>\n",
       "      <td>032</td>\n",
       "      <td>REFRESHING HYDRATION</td>\n",
       "      <td>88642175</td>\n",
       "      <td>Super Bakery, Inc., Super Bakery, Inc., Super ...</td>\n",
       "      <td>700</td>\n",
       "      <td>apc240120.xml</td>\n",
       "    </tr>\n",
       "    <tr>\n",
       "      <th>4</th>\n",
       "      <td>025</td>\n",
       "      <td>SCHOOLWEAR MADE FOR KIDS TO SHINE</td>\n",
       "      <td>88697251</td>\n",
       "      <td>Lollytogs, Ltd., Lollytogs, Ltd.</td>\n",
       "      <td>606</td>\n",
       "      <td>apc240120.xml</td>\n",
       "    </tr>\n",
       "  </tbody>\n",
       "</table>\n",
       "</div>"
      ],
      "text/plain": [
       "  category-code                mark-identification  serial-number  \\\n",
       "0           007                    PERFECT HARMONY       78636704   \n",
       "1           001                       THREAD MAGIC       86491524   \n",
       "2           003                      SIMPLE SHINE.       86912261   \n",
       "3           032               REFRESHING HYDRATION       88642175   \n",
       "4           025  SCHOOLWEAR MADE FOR KIDS TO SHINE       88697251   \n",
       "\n",
       "                                    Case-File-Owners  status   xml_filename  \n",
       "0  INNOMOTICS GMBH, SIEMENS AKTIENGESELLSCHAFT, S...     800  apc240120.xml  \n",
       "1        DPG USA, Inc., DPG USA, Inc., DPG USA, Inc.     702  apc240120.xml  \n",
       "2  TORQUAY ETRADING LLC, Love And Pieces LLC, Lov...     710  apc240120.xml  \n",
       "3  Super Bakery, Inc., Super Bakery, Inc., Super ...     700  apc240120.xml  \n",
       "4                   Lollytogs, Ltd., Lollytogs, Ltd.     606  apc240120.xml  "
      ]
     },
     "execution_count": 2,
     "metadata": {},
     "output_type": "execute_result"
    }
   ],
   "source": [
    "df1.head()"
   ]
  }
 ],
 "metadata": {
  "kernelspec": {
   "display_name": "kaggle",
   "language": "python",
   "name": "python3"
  },
  "language_info": {
   "codemirror_mode": {
    "name": "ipython",
    "version": 3
   },
   "file_extension": ".py",
   "mimetype": "text/x-python",
   "name": "python",
   "nbconvert_exporter": "python",
   "pygments_lexer": "ipython3",
   "version": "3.12.3"
  }
 },
 "nbformat": 4,
 "nbformat_minor": 2
}
